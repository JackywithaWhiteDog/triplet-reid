{
 "cells": [
  {
   "cell_type": "code",
   "execution_count": 1,
   "metadata": {},
   "outputs": [],
   "source": [
    "import itertools\n",
    "\n",
    "import numpy as np"
   ]
  },
  {
   "cell_type": "code",
   "execution_count": 2,
   "metadata": {},
   "outputs": [],
   "source": [
    "def load_csv(filename):\n",
    "    data = []\n",
    "    with open(filename, \"r\") as f:\n",
    "        for line in f:\n",
    "            data.append(tuple(line.strip().split(\",\")))\n",
    "    return data\n",
    "\n",
    "splits = [\"train\", \"test\", \"query\"]\n",
    "data = {\n",
    "    s: load_csv(f\"../data/market1501_{s}.csv\")\n",
    "    for s in splits\n",
    "}"
   ]
  },
  {
   "cell_type": "code",
   "execution_count": 3,
   "metadata": {},
   "outputs": [
    {
     "data": {
      "text/plain": [
       "12936"
      ]
     },
     "execution_count": 3,
     "metadata": {},
     "output_type": "execute_result"
    }
   ],
   "source": [
    "len(data[\"train\"])"
   ]
  },
  {
   "cell_type": "code",
   "execution_count": 4,
   "metadata": {},
   "outputs": [
    {
     "data": {
      "text/plain": [
       "36036"
      ]
     },
     "execution_count": 4,
     "metadata": {},
     "output_type": "execute_result"
    }
   ],
   "source": [
    "raw_data = list(itertools.chain.from_iterable(v for v in data.values()))\n",
    "len(raw_data)"
   ]
  },
  {
   "cell_type": "code",
   "execution_count": 5,
   "metadata": {},
   "outputs": [
    {
     "data": {
      "text/plain": [
       "36036"
      ]
     },
     "execution_count": 5,
     "metadata": {},
     "output_type": "execute_result"
    }
   ],
   "source": [
    "# Remove duplicates\n",
    "raw_data = list(set(raw_data))\n",
    "len(raw_data)"
   ]
  },
  {
   "cell_type": "code",
   "execution_count": 6,
   "metadata": {},
   "outputs": [
    {
     "data": {
      "text/plain": [
       "29419"
      ]
     },
     "execution_count": 6,
     "metadata": {},
     "output_type": "execute_result"
    }
   ],
   "source": [
    "# Remove unlabeled data\n",
    "raw_data = [d for d in raw_data if d[0] not in [\"-1\", \"0000\"]]\n",
    "len(raw_data)"
   ]
  },
  {
   "cell_type": "code",
   "execution_count": 7,
   "metadata": {},
   "outputs": [
    {
     "data": {
      "text/plain": [
       "(29419, 1501)"
      ]
     },
     "execution_count": 7,
     "metadata": {},
     "output_type": "execute_result"
    }
   ],
   "source": [
    "ids = [d[0] for d in raw_data]\n",
    "unique_ids = list(set(ids))\n",
    "len(ids), len(unique_ids)"
   ]
  },
  {
   "cell_type": "code",
   "execution_count": 8,
   "metadata": {},
   "outputs": [],
   "source": [
    "np.random.seed(1123)\n",
    "np.random.shuffle(unique_ids)"
   ]
  },
  {
   "cell_type": "code",
   "execution_count": 9,
   "metadata": {},
   "outputs": [
    {
     "data": {
      "text/plain": [
       "(375, 376, 375, 375)"
      ]
     },
     "execution_count": 9,
     "metadata": {},
     "output_type": "execute_result"
    }
   ],
   "source": [
    "num_gt_m = 375\n",
    "num_gt_nm = 376\n",
    "num_sh_m = 375\n",
    "# num_sh_nm = 375\n",
    "\n",
    "gt_m_ids = unique_ids[:num_gt_m]\n",
    "gt_nm_ids = unique_ids[num_gt_m:num_gt_m+num_gt_nm]\n",
    "sh_m_ids = unique_ids[num_gt_m+num_gt_nm:num_gt_m+num_gt_nm+num_sh_m]\n",
    "sh_nm_ids = unique_ids[num_gt_m+num_gt_nm+num_sh_m:]\n",
    "\n",
    "len(gt_m_ids), len(gt_nm_ids), len(sh_m_ids), len(sh_nm_ids)"
   ]
  },
  {
   "cell_type": "code",
   "execution_count": 10,
   "metadata": {},
   "outputs": [
    {
     "data": {
      "text/plain": [
       "(3568, 3569, 7737, 3762, 3762, 7021)"
      ]
     },
     "execution_count": 10,
     "metadata": {},
     "output_type": "execute_result"
    }
   ],
   "source": [
    "np.random.seed(1123)\n",
    "\n",
    "gt_m = [d for d in raw_data if d[0] in gt_m_ids]\n",
    "num_gt_tm = len(gt_m) // 2\n",
    "np.random.shuffle(gt_m)\n",
    "gt_tm = gt_m[:num_gt_tm]\n",
    "gt_ntm = gt_m[num_gt_tm:]\n",
    "\n",
    "gt_nm = [d for d in raw_data if d[0] in gt_nm_ids]\n",
    "\n",
    "sh_m = [d for d in raw_data if d[0] in sh_m_ids]\n",
    "num_sh_tm = len(sh_m) // 2\n",
    "np.random.shuffle(sh_m)\n",
    "sh_tm = sh_m[:num_sh_tm]\n",
    "sh_ntm = sh_m[num_sh_tm:]\n",
    "\n",
    "sh_nm = [d for d in raw_data if d[0] in sh_nm_ids]\n",
    "\n",
    "len(gt_tm), len(gt_ntm), len(gt_nm), len(sh_tm), len(sh_ntm), len(sh_nm)"
   ]
  },
  {
   "cell_type": "code",
   "execution_count": 11,
   "metadata": {},
   "outputs": [],
   "source": [
    "def save_data(filename, data):\n",
    "    with open(filename, \"w\") as f:\n",
    "        f.write('\\n'.join([','.join(d) for d in data]))\n",
    "\n",
    "splitted_data = {\n",
    "    \"ground_truth_training_member\": gt_tm,\n",
    "    \"ground_truth_non_training_member\": gt_ntm,\n",
    "    \"ground_truth_non_member\": gt_nm,\n",
    "    \"shadow_training_member\": sh_tm,\n",
    "    \"shadow_non_training_member\": sh_ntm,\n",
    "    \"shadow_non_member\": sh_nm,\n",
    "}\n",
    "for s, d in splitted_data.items():\n",
    "    save_data(f\"../splitted_data/{s}.csv\", d)"
   ]
  },
  {
   "cell_type": "code",
   "execution_count": null,
   "metadata": {},
   "outputs": [],
   "source": []
  }
 ],
 "metadata": {
  "kernelspec": {
   "display_name": "Python 3.8.12 64-bit ('lunet')",
   "language": "python",
   "name": "python3"
  },
  "language_info": {
   "codemirror_mode": {
    "name": "ipython",
    "version": 3
   },
   "file_extension": ".py",
   "mimetype": "text/x-python",
   "name": "python",
   "nbconvert_exporter": "python",
   "pygments_lexer": "ipython3",
   "version": "3.8.12"
  },
  "orig_nbformat": 4,
  "vscode": {
   "interpreter": {
    "hash": "1f08a5222677d86068fb51509ab969ee08cead59851054ba83d021de55dc0d58"
   }
  }
 },
 "nbformat": 4,
 "nbformat_minor": 2
}
